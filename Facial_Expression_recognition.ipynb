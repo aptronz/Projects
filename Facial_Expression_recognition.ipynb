{
  "nbformat": 4,
  "nbformat_minor": 0,
  "metadata": {
    "colab": {
      "provenance": [],
      "gpuType": "T4",
      "authorship_tag": "ABX9TyNbyBbvDV0Mx2JWV0lgvsp7",
      "include_colab_link": true
    },
    "kernelspec": {
      "name": "python3",
      "display_name": "Python 3"
    },
    "language_info": {
      "name": "python"
    },
    "accelerator": "GPU"
  },
  "cells": [
    {
      "cell_type": "markdown",
      "metadata": {
        "id": "view-in-github",
        "colab_type": "text"
      },
      "source": [
        "<a href=\"https://colab.research.google.com/github/aptronz/Projects/blob/main/Facial_Expression_recognition.ipynb\" target=\"_parent\"><img src=\"https://colab.research.google.com/assets/colab-badge.svg\" alt=\"Open In Colab\"/></a>"
      ]
    },
    {
      "cell_type": "code",
      "source": [
        "!git clone https://github.com/parth1620/Facial-Expression-Dataset.git\n",
        "!pip install -U git+https://github.com/albumentations-team/albumentations\n",
        "!pip install timm\n",
        "!pip install --upgrade opencv-contrib-python"
      ],
      "metadata": {
        "colab": {
          "base_uri": "https://localhost:8080/"
        },
        "id": "aNAdOBCJUeq5",
        "outputId": "c1d33fb3-81a9-47bb-e983-e4715d0e8e83"
      },
      "execution_count": 44,
      "outputs": [
        {
          "output_type": "stream",
          "name": "stdout",
          "text": [
            "fatal: destination path 'Facial-Expression-Dataset' already exists and is not an empty directory.\n",
            "Collecting git+https://github.com/albumentations-team/albumentations\n",
            "  Cloning https://github.com/albumentations-team/albumentations to /tmp/pip-req-build-r12icf0y\n",
            "  Running command git clone --filter=blob:none --quiet https://github.com/albumentations-team/albumentations /tmp/pip-req-build-r12icf0y\n",
            "  Resolved https://github.com/albumentations-team/albumentations to commit 497ab56463b9721a308a08536d846aed86f40e0b\n",
            "  Installing build dependencies ... \u001b[?25l\u001b[?25hdone\n",
            "  Getting requirements to build wheel ... \u001b[?25l\u001b[?25hdone\n",
            "  Preparing metadata (pyproject.toml) ... \u001b[?25l\u001b[?25hdone\n",
            "Requirement already satisfied: numpy>=1.24.4 in /usr/local/lib/python3.11/dist-packages (from albumentations==2.0.4) (1.26.4)\n",
            "Requirement already satisfied: scipy>=1.10.0 in /usr/local/lib/python3.11/dist-packages (from albumentations==2.0.4) (1.13.1)\n",
            "Requirement already satisfied: PyYAML in /usr/local/lib/python3.11/dist-packages (from albumentations==2.0.4) (6.0.2)\n",
            "Requirement already satisfied: pydantic>=2.9.2 in /usr/local/lib/python3.11/dist-packages (from albumentations==2.0.4) (2.10.6)\n",
            "Requirement already satisfied: albucore==0.0.23 in /usr/local/lib/python3.11/dist-packages (from albumentations==2.0.4) (0.0.23)\n",
            "Requirement already satisfied: opencv-python-headless>=4.9.0.80 in /usr/local/lib/python3.11/dist-packages (from albumentations==2.0.4) (4.11.0.86)\n",
            "Requirement already satisfied: stringzilla>=3.10.4 in /usr/local/lib/python3.11/dist-packages (from albucore==0.0.23->albumentations==2.0.4) (3.11.3)\n",
            "Requirement already satisfied: simsimd>=5.9.2 in /usr/local/lib/python3.11/dist-packages (from albucore==0.0.23->albumentations==2.0.4) (6.2.1)\n",
            "Requirement already satisfied: annotated-types>=0.6.0 in /usr/local/lib/python3.11/dist-packages (from pydantic>=2.9.2->albumentations==2.0.4) (0.7.0)\n",
            "Requirement already satisfied: pydantic-core==2.27.2 in /usr/local/lib/python3.11/dist-packages (from pydantic>=2.9.2->albumentations==2.0.4) (2.27.2)\n",
            "Requirement already satisfied: typing-extensions>=4.12.2 in /usr/local/lib/python3.11/dist-packages (from pydantic>=2.9.2->albumentations==2.0.4) (4.12.2)\n",
            "Requirement already satisfied: timm in /usr/local/lib/python3.11/dist-packages (1.0.14)\n",
            "Requirement already satisfied: torch in /usr/local/lib/python3.11/dist-packages (from timm) (2.5.1+cu124)\n",
            "Requirement already satisfied: torchvision in /usr/local/lib/python3.11/dist-packages (from timm) (0.20.1+cu124)\n",
            "Requirement already satisfied: pyyaml in /usr/local/lib/python3.11/dist-packages (from timm) (6.0.2)\n",
            "Requirement already satisfied: huggingface_hub in /usr/local/lib/python3.11/dist-packages (from timm) (0.28.1)\n",
            "Requirement already satisfied: safetensors in /usr/local/lib/python3.11/dist-packages (from timm) (0.5.2)\n",
            "Requirement already satisfied: filelock in /usr/local/lib/python3.11/dist-packages (from huggingface_hub->timm) (3.17.0)\n",
            "Requirement already satisfied: fsspec>=2023.5.0 in /usr/local/lib/python3.11/dist-packages (from huggingface_hub->timm) (2024.10.0)\n",
            "Requirement already satisfied: packaging>=20.9 in /usr/local/lib/python3.11/dist-packages (from huggingface_hub->timm) (24.2)\n",
            "Requirement already satisfied: requests in /usr/local/lib/python3.11/dist-packages (from huggingface_hub->timm) (2.32.3)\n",
            "Requirement already satisfied: tqdm>=4.42.1 in /usr/local/lib/python3.11/dist-packages (from huggingface_hub->timm) (4.67.1)\n",
            "Requirement already satisfied: typing-extensions>=3.7.4.3 in /usr/local/lib/python3.11/dist-packages (from huggingface_hub->timm) (4.12.2)\n",
            "Requirement already satisfied: networkx in /usr/local/lib/python3.11/dist-packages (from torch->timm) (3.4.2)\n",
            "Requirement already satisfied: jinja2 in /usr/local/lib/python3.11/dist-packages (from torch->timm) (3.1.5)\n",
            "Requirement already satisfied: nvidia-cuda-nvrtc-cu12==12.4.127 in /usr/local/lib/python3.11/dist-packages (from torch->timm) (12.4.127)\n",
            "Requirement already satisfied: nvidia-cuda-runtime-cu12==12.4.127 in /usr/local/lib/python3.11/dist-packages (from torch->timm) (12.4.127)\n",
            "Requirement already satisfied: nvidia-cuda-cupti-cu12==12.4.127 in /usr/local/lib/python3.11/dist-packages (from torch->timm) (12.4.127)\n",
            "Requirement already satisfied: nvidia-cudnn-cu12==9.1.0.70 in /usr/local/lib/python3.11/dist-packages (from torch->timm) (9.1.0.70)\n",
            "Requirement already satisfied: nvidia-cublas-cu12==12.4.5.8 in /usr/local/lib/python3.11/dist-packages (from torch->timm) (12.4.5.8)\n",
            "Requirement already satisfied: nvidia-cufft-cu12==11.2.1.3 in /usr/local/lib/python3.11/dist-packages (from torch->timm) (11.2.1.3)\n",
            "Requirement already satisfied: nvidia-curand-cu12==10.3.5.147 in /usr/local/lib/python3.11/dist-packages (from torch->timm) (10.3.5.147)\n",
            "Requirement already satisfied: nvidia-cusolver-cu12==11.6.1.9 in /usr/local/lib/python3.11/dist-packages (from torch->timm) (11.6.1.9)\n",
            "Requirement already satisfied: nvidia-cusparse-cu12==12.3.1.170 in /usr/local/lib/python3.11/dist-packages (from torch->timm) (12.3.1.170)\n",
            "Requirement already satisfied: nvidia-nccl-cu12==2.21.5 in /usr/local/lib/python3.11/dist-packages (from torch->timm) (2.21.5)\n",
            "Requirement already satisfied: nvidia-nvtx-cu12==12.4.127 in /usr/local/lib/python3.11/dist-packages (from torch->timm) (12.4.127)\n",
            "Requirement already satisfied: nvidia-nvjitlink-cu12==12.4.127 in /usr/local/lib/python3.11/dist-packages (from torch->timm) (12.4.127)\n",
            "Requirement already satisfied: triton==3.1.0 in /usr/local/lib/python3.11/dist-packages (from torch->timm) (3.1.0)\n",
            "Requirement already satisfied: sympy==1.13.1 in /usr/local/lib/python3.11/dist-packages (from torch->timm) (1.13.1)\n",
            "Requirement already satisfied: mpmath<1.4,>=1.1.0 in /usr/local/lib/python3.11/dist-packages (from sympy==1.13.1->torch->timm) (1.3.0)\n",
            "Requirement already satisfied: numpy in /usr/local/lib/python3.11/dist-packages (from torchvision->timm) (1.26.4)\n",
            "Requirement already satisfied: pillow!=8.3.*,>=5.3.0 in /usr/local/lib/python3.11/dist-packages (from torchvision->timm) (11.1.0)\n",
            "Requirement already satisfied: MarkupSafe>=2.0 in /usr/local/lib/python3.11/dist-packages (from jinja2->torch->timm) (3.0.2)\n",
            "Requirement already satisfied: charset-normalizer<4,>=2 in /usr/local/lib/python3.11/dist-packages (from requests->huggingface_hub->timm) (3.4.1)\n",
            "Requirement already satisfied: idna<4,>=2.5 in /usr/local/lib/python3.11/dist-packages (from requests->huggingface_hub->timm) (3.10)\n",
            "Requirement already satisfied: urllib3<3,>=1.21.1 in /usr/local/lib/python3.11/dist-packages (from requests->huggingface_hub->timm) (2.3.0)\n",
            "Requirement already satisfied: certifi>=2017.4.17 in /usr/local/lib/python3.11/dist-packages (from requests->huggingface_hub->timm) (2025.1.31)\n",
            "Requirement already satisfied: opencv-contrib-python in /usr/local/lib/python3.11/dist-packages (4.11.0.86)\n",
            "Requirement already satisfied: numpy>=1.21.2 in /usr/local/lib/python3.11/dist-packages (from opencv-contrib-python) (1.26.4)\n"
          ]
        }
      ]
    },
    {
      "cell_type": "code",
      "source": [
        "import numpy as np\n",
        "import matplotlib.pyplot as plt\n",
        "import torch"
      ],
      "metadata": {
        "id": "K5SFYzkRWkfH"
      },
      "execution_count": 46,
      "outputs": []
    },
    {
      "cell_type": "code",
      "source": [
        "TRAIN_IMG_FOLDER_PATH = '/content/Facial-Expression-Dataset/train/'\n",
        "VALID_IMG_FOLDDER_PATH = '/content/Facial-Expression-Dataset/validation'\n",
        "LR = 0.001\n",
        "BATCH_SIZE = 32\n",
        "EPOCHS = 15\n",
        "DEVICE='cuda'\n",
        "MODEL_NAME = 'efficient_b0'"
      ],
      "metadata": {
        "id": "p7-nWvqWX5ee"
      },
      "execution_count": 47,
      "outputs": []
    },
    {
      "cell_type": "code",
      "source": [
        "from torchvision.datasets import ImageFolder\n",
        "from torchvision import transforms as T"
      ],
      "metadata": {
        "id": "agEQRCQxZDfA"
      },
      "execution_count": 48,
      "outputs": []
    },
    {
      "cell_type": "code",
      "source": [
        "train_augs = T.Compose([\n",
        "    T.RandomHorizontalFlip(p = 0.5),\n",
        "    T.RandomRotation(degrees=(-20, +20)),\n",
        "    T.ToTensor()#PIL/ numpy arr-> torch tensor\n",
        "\n",
        "])\n",
        "valid_augs = T.Compose([\n",
        "    T.ToTensor()\n",
        "])\n",
        "\n",
        "valid_augs = T.Compose([\n",
        "    T.ToTensor()\n",
        "])"
      ],
      "metadata": {
        "id": "r_MkwGSpZRGu"
      },
      "execution_count": 49,
      "outputs": []
    },
    {
      "cell_type": "code",
      "source": [
        "trainset = ImageFolder(TRAIN_IMG_FOLDER_PATH, transform = train_augs)\n",
        "validset = ImageFolder(VALID_IMG_FOLDDER_PATH, transform = valid_augs)"
      ],
      "metadata": {
        "id": "lwFWnI66OZUm"
      },
      "execution_count": 50,
      "outputs": []
    },
    {
      "cell_type": "code",
      "source": [
        "print(f\"Total no. of batches in trainset : {len(trainset)}\")\n",
        "print(f\"Total no. of batches in validset : {len(validset)}\")"
      ],
      "metadata": {
        "colab": {
          "base_uri": "https://localhost:8080/"
        },
        "id": "rZz-nuLUPWda",
        "outputId": "eba358ed-d914-4411-a6b8-be02cf89e2da"
      },
      "execution_count": 51,
      "outputs": [
        {
          "output_type": "stream",
          "name": "stdout",
          "text": [
            "Total no. of batches in trainset : 28821\n",
            "Total no. of batches in validset : 7066\n"
          ]
        }
      ]
    },
    {
      "cell_type": "code",
      "source": [
        "print (trainset.class_to_idx)"
      ],
      "metadata": {
        "colab": {
          "base_uri": "https://localhost:8080/"
        },
        "id": "HFg2W2DBvsfp",
        "outputId": "b93ba0ea-f261-4c88-cadb-e510cc0d1f5a"
      },
      "execution_count": 52,
      "outputs": [
        {
          "output_type": "stream",
          "name": "stdout",
          "text": [
            "{'angry': 0, 'disgust': 1, 'fear': 2, 'happy': 3, 'neutral': 4, 'sad': 5, 'surprise': 6}\n"
          ]
        }
      ]
    },
    {
      "cell_type": "code",
      "source": [
        "image, label= validset[3000]\n",
        "\n",
        "plt.imshow(image.permute(1, 2, 0))\n",
        "plt.title(label)"
      ],
      "metadata": {
        "colab": {
          "base_uri": "https://localhost:8080/",
          "height": 470
        },
        "id": "2DMYIX7qGbvc",
        "outputId": "0b7dc447-df7b-4cf5-cd7c-747226357edb"
      },
      "execution_count": 53,
      "outputs": [
        {
          "output_type": "execute_result",
          "data": {
            "text/plain": [
              "Text(0.5, 1.0, '3')"
            ]
          },
          "metadata": {},
          "execution_count": 53
        },
        {
          "output_type": "display_data",
          "data": {
            "text/plain": [
              "<Figure size 640x480 with 1 Axes>"
            ],
            "image/png": "[encoded data removed]"
          },
          "metadata": {}
        }
      ]
    },
    {
      "cell_type": "code",
      "source": [
        "from torch.utils.data import DataLoader"
      ],
      "metadata": {
        "id": "ZsfVH3nZHMk_"
      },
      "execution_count": 54,
      "outputs": []
    },
    {
      "cell_type": "code",
      "source": [
        "trainloader = DataLoader(trainset, batch_size = BATCH_SIZE, shuffle = True)\n",
        "validloader = DataLoader(validset, batch_size = BATCH_SIZE, shuffle = True)"
      ],
      "metadata": {
        "id": "2PfmUzS9HNxO"
      },
      "execution_count": 55,
      "outputs": []
    },
    {
      "cell_type": "code",
      "source": [
        "print(f\"Total no. of batches in trainloader : {len(trainloader)}\")\n",
        "print(f\"Total no. of batches in validloader : {len(validloader)}\")"
      ],
      "metadata": {
        "colab": {
          "base_uri": "https://localhost:8080/"
        },
        "id": "REiddwkCHrEY",
        "outputId": "76eed52b-6921-49d7-a0f2-4ae6bd72f98c"
      },
      "execution_count": 56,
      "outputs": [
        {
          "output_type": "stream",
          "name": "stdout",
          "text": [
            "Total no. of batches in trainloader : 901\n",
            "Total no. of batches in validloader : 221\n"
          ]
        }
      ]
    },
    {
      "cell_type": "code",
      "source": [
        "for images, labels in trainloader:\n",
        "  break;\n",
        "\n",
        "print(f\"One image batch shape : {images.shape}\")\n",
        "print(f\"One label batch shape : {labels.shape}\")"
      ],
      "metadata": {
        "colab": {
          "base_uri": "https://localhost:8080/"
        },
        "id": "fLRjOSOJP27R",
        "outputId": "14fc18ce-d4be-4933-e9f5-f830ccbea204"
      },
      "execution_count": 57,
      "outputs": [
        {
          "output_type": "stream",
          "name": "stdout",
          "text": [
            "One image batch shape : torch.Size([32, 3, 48, 48])\n",
            "One label batch shape : torch.Size([32])\n"
          ]
        }
      ]
    },
    {
      "cell_type": "code",
      "source": [
        "import timm\n",
        "from torch import nn"
      ],
      "metadata": {
        "id": "DP027j_IQPFo"
      },
      "execution_count": 58,
      "outputs": []
    },
    {
      "cell_type": "code",
      "source": [
        "class Facemodel(nn.Module):\n",
        "    def __init__(self):\n",
        "        super(Facemodel, self).__init__() # Properly call super().__init__()\n",
        "        self.eff_net = timm.create_model('efficientnet_b0', pretrained=True, num_classes=7) # Use 'efficientnet_b0'\n",
        "    def forward(self, images, labels=None):\n",
        "        logits = self.eff_net(images)\n",
        "        if labels is not None: # Use 'is not None' instead of '!=' for None comparison\n",
        "            loss = nn.CrossEntropyLoss()(logits, labels)\n",
        "            return loss, logits\n",
        "        return logits"
      ],
      "metadata": {
        "id": "-6Me-THMIuMn"
      },
      "execution_count": 59,
      "outputs": []
    },
    {
      "cell_type": "code",
      "source": [
        "model = Facemodel()\n",
        "model.to(DEVICE);"
      ],
      "metadata": {
        "id": "3ddRpNLDKZJp"
      },
      "execution_count": 60,
      "outputs": []
    },
    {
      "cell_type": "code",
      "source": [
        "from tqdm import tqdm"
      ],
      "metadata": {
        "id": "PQ9QgHvtML7d"
      },
      "execution_count": 61,
      "outputs": []
    },
    {
      "cell_type": "code",
      "source": [
        "def multiclass_accuracy(y_pred, y_true):\n",
        "    top_p, top_class= y_pred.topk(1,dim=1)\n",
        "    equals= top_class == y_true.view(*top_class.shape)\n",
        "    return torch.mean(equals.type(torch.FloatTensor))"
      ],
      "metadata": {
        "id": "IkVBeMrcMQrL"
      },
      "execution_count": 67,
      "outputs": []
    },
    {
      "cell_type": "code",
      "source": [
        "def train_fn(model,dataloader, optimizer, current_epo):\n",
        "  model.train()\n",
        "  total_loss=0.0\n",
        "  total_acc= 0.0\n",
        "  tk= tqdm(dataloader, desc=\"EPOCH\"+\"[TRAIN]\"+ str(current_epo +1)+\"/\"+ str(EPOCHS))\n",
        "  for t,data in enumerate(tk):\n",
        "    images,labels=data\n",
        "    images,labels=images.to(DEVICE),labels.to(DEVICE)\n",
        "\n",
        "    optimizer.zero_grad()\n",
        "    loss, logits= model(images,labels)\n",
        "    loss.backward()\n",
        "    optimizer.step()\n",
        "\n",
        "    total_loss += loss.item()\n",
        "    total_acc += multiclass_accuracy(logits, labels)\n",
        "    tk.set_postfix({'loss' : '%6f' %float(total_loss/(t+1)),'acc' : '%6f' %float(total_acc/(t+1))})\n",
        "  return total_loss/len(dataloader), total_acc/len(dataloader)\n",
        "\n"
      ],
      "metadata": {
        "id": "BCHVaK7jM7t4"
      },
      "execution_count": 68,
      "outputs": []
    },
    {
      "cell_type": "code",
      "source": [
        "def eval_fn(model,dataloader, current_epo):\n",
        "  model.eval()\n",
        "  total_loss=0.0\n",
        "  total_acc= 0.0\n",
        "  tk= tqdm(dataloader, desc=\"EPOCH\"+\"[VALID]\"+ str(current_epo +1)+\"/\"+ str(EPOCHS))\n",
        "  for t,data in enumerate(tk):\n",
        "    images,labels=data\n",
        "    images,labels=images.to(DEVICE),labels.to(DEVICE)\n",
        "\n",
        "    loss, logits= model(images,labels)\n",
        "\n",
        "    total_loss += loss.item()\n",
        "    total_acc += multiclass_accuracy(logits, labels)\n",
        "    tk.set_postfix({'loss' : '%6f' %float(total_loss/(t+1)),'acc' : '%6f' %float(total_acc/(t+1))})\n",
        "  return total_loss/len(dataloader), total_acc/len(dataloader)"
      ],
      "metadata": {
        "id": "L2JDGl6iPyfB"
      },
      "execution_count": 69,
      "outputs": []
    },
    {
      "cell_type": "code",
      "source": [
        "optimizer = torch.optim.Adam(model.parameters(), lr=LR)"
      ],
      "metadata": {
        "id": "cvGiNxsRQUu8"
      },
      "execution_count": 70,
      "outputs": []
    },
    {
      "cell_type": "code",
      "source": [
        "best_valid_loss= np.Inf\n",
        "for i in range(EPOCHS):\n",
        "  train_loss, train_acc= train_fn(model, trainloader,optimizer,i)\n",
        "  valid_loss, valid_acc = eval_fn(model, validloader,i)\n",
        "\n",
        "  if valid_loss < best_valid_loss:\n",
        "    torch.save(model.state_dict(), 'best-weights.pt')\n",
        "    print('SAVED-BEST-WEIGHTS')\n",
        "    best_valid_loss = valid_loss\n",
        "\n",
        ""
      ],
      "metadata": {
        "colab": {
          "base_uri": "https://localhost:8080/"
        },
        "id": "gi7fOv-VQuvS",
        "outputId": "1c37081a-7ced-4703-fb57-31f2e5391850"
      },
      "execution_count": 71,
      "outputs": [
        {
          "output_type": "stream",
          "name": "stderr",
          "text": [
            "EPOCH[TRAIN]1/15: 100%|██████████| 901/901 [01:02<00:00, 14.48it/s, loss=1.860820, acc=0.368699]\n",
            "EPOCH[VALID]1/15: 100%|██████████| 221/221 [00:09<00:00, 23.13it/s, loss=1.326523, acc=0.498945]\n"
          ]
        },
        {
          "output_type": "stream",
          "name": "stdout",
          "text": [
            "SAVED-BEST-WEIGHTS\n"
          ]
        },
        {
          "output_type": "stream",
          "name": "stderr",
          "text": [
            "EPOCH[TRAIN]2/15: 100%|██████████| 901/901 [00:47<00:00, 19.13it/s, loss=1.315266, acc=0.497286]\n",
            "EPOCH[VALID]2/15: 100%|██████████| 221/221 [00:06<00:00, 34.05it/s, loss=1.193948, acc=0.548338]\n"
          ]
        },
        {
          "output_type": "stream",
          "name": "stdout",
          "text": [
            "SAVED-BEST-WEIGHTS\n"
          ]
        },
        {
          "output_type": "stream",
          "name": "stderr",
          "text": [
            "EPOCH[TRAIN]3/15: 100%|██████████| 901/901 [00:46<00:00, 19.31it/s, loss=1.203746, acc=0.545305]\n",
            "EPOCH[VALID]3/15: 100%|██████████| 221/221 [00:06<00:00, 35.45it/s, loss=1.134165, acc=0.572007]\n"
          ]
        },
        {
          "output_type": "stream",
          "name": "stdout",
          "text": [
            "SAVED-BEST-WEIGHTS\n"
          ]
        },
        {
          "output_type": "stream",
          "name": "stderr",
          "text": [
            "EPOCH[TRAIN]4/15: 100%|██████████| 901/901 [00:46<00:00, 19.20it/s, loss=1.144738, acc=0.565584]\n",
            "EPOCH[VALID]4/15: 100%|██████████| 221/221 [00:05<00:00, 36.86it/s, loss=1.090479, acc=0.592042]\n"
          ]
        },
        {
          "output_type": "stream",
          "name": "stdout",
          "text": [
            "SAVED-BEST-WEIGHTS\n"
          ]
        },
        {
          "output_type": "stream",
          "name": "stderr",
          "text": [
            "EPOCH[TRAIN]5/15: 100%|██████████| 901/901 [00:46<00:00, 19.27it/s, loss=1.109591, acc=0.583475]\n",
            "EPOCH[VALID]5/15: 100%|██████████| 221/221 [00:06<00:00, 34.27it/s, loss=1.127069, acc=0.573714]\n",
            "EPOCH[TRAIN]6/15: 100%|██████████| 901/901 [00:46<00:00, 19.23it/s, loss=1.079790, acc=0.591748]\n",
            "EPOCH[VALID]6/15: 100%|██████████| 221/221 [00:05<00:00, 37.59it/s, loss=1.057050, acc=0.604355]\n"
          ]
        },
        {
          "output_type": "stream",
          "name": "stdout",
          "text": [
            "SAVED-BEST-WEIGHTS\n"
          ]
        },
        {
          "output_type": "stream",
          "name": "stderr",
          "text": [
            "EPOCH[TRAIN]7/15: 100%|██████████| 901/901 [00:47<00:00, 19.17it/s, loss=1.045703, acc=0.608552]\n",
            "EPOCH[VALID]7/15: 100%|██████████| 221/221 [00:06<00:00, 34.17it/s, loss=1.029543, acc=0.615472]\n"
          ]
        },
        {
          "output_type": "stream",
          "name": "stdout",
          "text": [
            "SAVED-BEST-WEIGHTS\n"
          ]
        },
        {
          "output_type": "stream",
          "name": "stderr",
          "text": [
            "EPOCH[TRAIN]8/15: 100%|██████████| 901/901 [00:46<00:00, 19.29it/s, loss=1.016985, acc=0.618854]\n",
            "EPOCH[VALID]8/15: 100%|██████████| 221/221 [00:06<00:00, 36.32it/s, loss=1.042331, acc=0.611839]\n",
            "EPOCH[TRAIN]9/15: 100%|██████████| 901/901 [00:46<00:00, 19.21it/s, loss=0.990588, acc=0.628965]\n",
            "EPOCH[VALID]9/15: 100%|██████████| 221/221 [00:06<00:00, 35.71it/s, loss=1.025835, acc=0.616864]\n"
          ]
        },
        {
          "output_type": "stream",
          "name": "stdout",
          "text": [
            "SAVED-BEST-WEIGHTS\n"
          ]
        },
        {
          "output_type": "stream",
          "name": "stderr",
          "text": [
            "EPOCH[TRAIN]10/15: 100%|██████████| 901/901 [00:46<00:00, 19.34it/s, loss=0.959974, acc=0.642406]\n",
            "EPOCH[VALID]10/15: 100%|██████████| 221/221 [00:06<00:00, 33.98it/s, loss=1.013137, acc=0.627012]\n"
          ]
        },
        {
          "output_type": "stream",
          "name": "stdout",
          "text": [
            "SAVED-BEST-WEIGHTS\n"
          ]
        },
        {
          "output_type": "stream",
          "name": "stderr",
          "text": [
            "EPOCH[TRAIN]11/15: 100%|██████████| 901/901 [00:46<00:00, 19.20it/s, loss=0.934178, acc=0.649115]\n",
            "EPOCH[VALID]11/15: 100%|██████████| 221/221 [00:05<00:00, 37.41it/s, loss=1.035991, acc=0.625392]\n",
            "EPOCH[TRAIN]12/15: 100%|██████████| 901/901 [00:46<00:00, 19.20it/s, loss=0.904022, acc=0.662016]\n",
            "EPOCH[VALID]12/15: 100%|██████████| 221/221 [00:06<00:00, 33.65it/s, loss=1.014549, acc=0.622661]\n",
            "EPOCH[TRAIN]13/15: 100%|██████████| 901/901 [00:47<00:00, 19.15it/s, loss=0.868757, acc=0.679083]\n",
            "EPOCH[VALID]13/15: 100%|██████████| 221/221 [00:06<00:00, 36.72it/s, loss=0.987092, acc=0.635670]\n"
          ]
        },
        {
          "output_type": "stream",
          "name": "stdout",
          "text": [
            "SAVED-BEST-WEIGHTS\n"
          ]
        },
        {
          "output_type": "stream",
          "name": "stderr",
          "text": [
            "EPOCH[TRAIN]14/15: 100%|██████████| 901/901 [00:47<00:00, 19.02it/s, loss=0.844382, acc=0.684009]\n",
            "EPOCH[VALID]14/15: 100%|██████████| 221/221 [00:06<00:00, 33.71it/s, loss=0.970987, acc=0.651921]\n"
          ]
        },
        {
          "output_type": "stream",
          "name": "stdout",
          "text": [
            "SAVED-BEST-WEIGHTS\n"
          ]
        },
        {
          "output_type": "stream",
          "name": "stderr",
          "text": [
            "EPOCH[TRAIN]15/15: 100%|██████████| 901/901 [00:48<00:00, 18.72it/s, loss=0.817095, acc=0.696168]\n",
            "EPOCH[VALID]15/15: 100%|██████████| 221/221 [00:06<00:00, 35.59it/s, loss=0.980482, acc=0.644568]\n"
          ]
        }
      ]
    },
    {
      "cell_type": "code",
      "source": [
        "\n",
        "def view_classify(img, ps):\n",
        "\n",
        "    classes = ['angry', 'disgust', 'fear', 'happy', 'neutral', 'sad', 'surprise']\n",
        "\n",
        "    ps = ps.data.cpu().numpy().squeeze()\n",
        "    img = img.numpy().transpose(1,2,0)\n",
        "\n",
        "    fig, (ax1, ax2) = plt.subplots(figsize=(5,9), ncols=2)\n",
        "    ax1.imshow(img)\n",
        "    ax1.axis('off')\n",
        "    ax2.barh(classes, ps)\n",
        "    ax2.set_aspect(0.1)\n",
        "    ax2.set_yticks(classes)\n",
        "    ax2.set_yticklabels(classes)\n",
        "    ax2.set_title('Class Probability')\n",
        "    ax2.set_xlim(0, 1.1)\n",
        "\n",
        "    plt.tight_layout()\n",
        "\n",
        "    return None"
      ],
      "metadata": {
        "id": "mG4WcZ8pSOtS"
      },
      "execution_count": 72,
      "outputs": []
    }
  ]
}